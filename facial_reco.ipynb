{
 "cells": [
  {
   "cell_type": "markdown",
   "metadata": {},
   "source": [
    "# import depencey"
   ]
  },
  {
   "cell_type": "code",
   "execution_count": 1,
   "metadata": {},
   "outputs": [],
   "source": [
    "import numpy as np\n",
    "import pandas as pd\n",
    "import os\n",
    "import random\n",
    "from matplotlib import pyplot as plt\n",
    "import cv2 \n",
    "import uuid\n",
    "import re\n",
    "import keras\n",
    "import tensorflow as tf\n",
    "import h5py\n",
    "from tensorflow.keras.models import Model\n",
    "from tensorflow.keras.layers import Layer,Conv2D ,Dense,MaxPooling2D,Input, Flatten,average\n",
    "\n",
    "import cv2"
   ]
  },
  {
   "cell_type": "code",
   "execution_count": null,
   "metadata": {},
   "outputs": [],
   "source": [
    "# unzip tgz the folder of negative photos\n",
    "!tar -xvzf lfw.tgz"
   ]
  },
  {
   "cell_type": "code",
   "execution_count": 2,
   "metadata": {},
   "outputs": [],
   "source": [
    "pos_path=os.path.join('data','positive')\n",
    "neg_path=os.path.join('data','negative')\n",
    "anc_path=os.path.join('data','anchor')"
   ]
  },
  {
   "cell_type": "code",
   "execution_count": 3,
   "metadata": {},
   "outputs": [
    {
     "data": {
      "text/plain": [
       "('data\\\\negative', 'data\\\\positive', 'data\\\\anchor')"
      ]
     },
     "execution_count": 3,
     "metadata": {},
     "output_type": "execute_result"
    }
   ],
   "source": [
    "neg_path,pos_path,anc_path\n"
   ]
  },
  {
   "cell_type": "markdown",
   "metadata": {},
   "source": [
    "# Collecting images\n",
    "- positve and anchor\n",
    "- negative ==> to make it in the same folder  "
   ]
  },
  {
   "cell_type": "code",
   "execution_count": null,
   "metadata": {},
   "outputs": [],
   "source": [
    "#replace all the file in lfw to be in our directory of negative dir\n",
    "# di is all the folder in lfw \n",
    "#fil where the name of the photo\n",
    "for di in os.listdir('lfw'):\n",
    "    for fil in os.listdir(os.path.join('lfw',di)):\n",
    "        newpath=os.path.join(neg_path,fil)\n",
    "        oldpath=os.path.join('lfw',di,fil)\n",
    "        os.replace(oldpath,newpath)"
   ]
  },
  {
   "cell_type": "code",
   "execution_count": 14,
   "metadata": {},
   "outputs": [
    {
     "name": "stdout",
     "output_type": "stream",
     "text": [
      "we are done ya man\n"
     ]
    }
   ],
   "source": [
    "\n",
    "cap=cv2.VideoCapture(0)\n",
    "\n",
    "while cap.isOpened():\n",
    "    ret, frame=cap.read()\n",
    "    frame=frame[100:250+100,200:250+200,:]\n",
    "    cv2.imshow('image collector',frame)\n",
    "    \n",
    "    #collect anchor\n",
    "    if cv2.waitKey(1)& 0xFF == ord('a'):\n",
    "        #crate a unique file path\n",
    "        path = os.path.join(anc_path, f'{uuid.uuid1()}.jpg')\n",
    "\n",
    "        # write the image to the path\n",
    "        cv2.imwrite(path,frame)\n",
    "    \n",
    "    #collect Positive\n",
    "    if cv2.waitKey(1)& 0xFF == ord('p'):\n",
    "        #crate a unique file path\n",
    "        path = os.path.join(pos_path, f'{uuid.uuid1()}.jpg')\n",
    "\n",
    "        # write the image to the path\n",
    "        cv2.imwrite(path,frame)\n",
    "\n",
    "    \n",
    "    #finsh the data collector\n",
    "    if cv2.waitKey(1)& 0xFF == ord('q'):\n",
    "        print(\"we are done ya man\")\n",
    "        break\n",
    "#Release your webcam\n",
    "cap.release()\n",
    "cv2.destroyAllWindows()\n",
    "    "
   ]
  },
  {
   "cell_type": "code",
   "execution_count": 24,
   "metadata": {},
   "outputs": [],
   "source": [
    "#collecting data are done\n",
    "anchor=tf.data.Dataset.list_files(anc_path+'\\*.jpg').take(300)\n",
    "positive=tf.data.Dataset.list_files(pos_path+'\\*.jpg').take(300)\n",
    "negative=tf.data.Dataset.list_files(neg_path+'\\*.jpg').take(300)\n"
   ]
  },
  {
   "cell_type": "code",
   "execution_count": 25,
   "metadata": {},
   "outputs": [],
   "source": [
    "def preprocess(file_path): # take the file path and convert to image then return it \n",
    "    byte_image=tf.io.read_file(file_path)\n",
    "    image=tf.io.decode_jpeg(byte_image)    \n",
    "    image=tf.image.resize(image,(100,100))    \n",
    "    image=image/255.0\n",
    "    return image"
   ]
  },
  {
   "cell_type": "code",
   "execution_count": 26,
   "metadata": {},
   "outputs": [],
   "source": [
    "positives=tf.data.Dataset.zip((anchor,positive,tf.data.Dataset.from_tensor_slices(tf.ones(len(anchor)))))\n",
    "negatives=tf.data.Dataset.zip((anchor,negative,tf.data.Dataset.from_tensor_slices(tf.zeros(len(anchor)))))\n",
    "data= positives.concatenate(negatives)"
   ]
  },
  {
   "cell_type": "code",
   "execution_count": null,
   "metadata": {},
   "outputs": [],
   "source": []
  },
  {
   "cell_type": "code",
   "execution_count": 27,
   "metadata": {},
   "outputs": [],
   "source": [
    "def process_twin(anchor_img,validation_img,label):\n",
    "\n",
    "    return (preprocess(anchor_img),preprocess(validation_img),label)\n",
    "    "
   ]
  },
  {
   "cell_type": "code",
   "execution_count": 28,
   "metadata": {},
   "outputs": [
    {
     "name": "stdout",
     "output_type": "stream",
     "text": [
      "(<tf.Tensor: shape=(100, 100, 3), dtype=float32, numpy=\n",
      "array([[[0.64215684, 0.66568625, 0.6578431 ],\n",
      "        [0.64730394, 0.67083335, 0.6629902 ],\n",
      "        [0.6509804 , 0.6745098 , 0.6666667 ],\n",
      "        ...,\n",
      "        [0.6372549 , 0.65294117, 0.6490196 ],\n",
      "        [0.6362745 , 0.6460784 , 0.64215684],\n",
      "        [0.64117646, 0.6490196 , 0.64509803]],\n",
      "\n",
      "       [[0.65      , 0.6735294 , 0.6637255 ],\n",
      "        [0.6519608 , 0.6754902 , 0.66568625],\n",
      "        [0.6519608 , 0.6754902 , 0.66568625],\n",
      "        ...,\n",
      "        [0.6406863 , 0.6573529 , 0.6504902 ],\n",
      "        [0.65318626, 0.6632353 , 0.65710783],\n",
      "        [0.65882355, 0.6666667 , 0.6607843 ]],\n",
      "\n",
      "       [[0.64705884, 0.67058825, 0.654902  ],\n",
      "        [0.6509804 , 0.6745098 , 0.65882355],\n",
      "        [0.6517157 , 0.6752451 , 0.65955883],\n",
      "        ...,\n",
      "        [0.6480392 , 0.66764706, 0.6519608 ],\n",
      "        [0.64705884, 0.6578431 , 0.64509803],\n",
      "        [0.65392154, 0.6617647 , 0.65      ]],\n",
      "\n",
      "       ...,\n",
      "\n",
      "       [[0.62647057, 0.6343137 , 0.63039213],\n",
      "        [0.62892157, 0.6382353 , 0.6343137 ],\n",
      "        [0.6245098 , 0.6382353 , 0.6343137 ],\n",
      "        ...,\n",
      "        [0.475     , 0.47696078, 0.46813726],\n",
      "        [0.48602942, 0.4865196 , 0.48284313],\n",
      "        [0.4862745 , 0.4862745 , 0.4862745 ]],\n",
      "\n",
      "       [[0.62034315, 0.6281863 , 0.6242647 ],\n",
      "        [0.6242647 , 0.63210785, 0.6281863 ],\n",
      "        [0.6227941 , 0.6306372 , 0.62671566],\n",
      "        ...,\n",
      "        [0.42622548, 0.43112746, 0.4360294 ],\n",
      "        [0.49289215, 0.49485293, 0.49191177],\n",
      "        [0.47965688, 0.47965688, 0.47965688]],\n",
      "\n",
      "       [[0.62352943, 0.6313726 , 0.61960787],\n",
      "        [0.6252451 , 0.6311275 , 0.6281863 ],\n",
      "        [0.627451  , 0.627451  , 0.627451  ],\n",
      "        ...,\n",
      "        [0.17794117, 0.17794117, 0.21764706],\n",
      "        [0.24460784, 0.24681373, 0.27156863],\n",
      "        [0.42230392, 0.42156863, 0.43161765]]], dtype=float32)>, <tf.Tensor: shape=(100, 100, 3), dtype=float32, numpy=\n",
      "array([[[0.6598039 , 0.6754902 , 0.67941177],\n",
      "        [0.6598039 , 0.6754902 , 0.67941177],\n",
      "        [0.6620098 , 0.67769605, 0.6816176 ],\n",
      "        ...,\n",
      "        [0.6580882 , 0.6737745 , 0.6698529 ],\n",
      "        [0.65588236, 0.67156863, 0.66764706],\n",
      "        [0.65294117, 0.6764706 , 0.66862744]],\n",
      "\n",
      "       [[0.65661764, 0.68014705, 0.68014705],\n",
      "        [0.65686274, 0.68039215, 0.68039215],\n",
      "        [0.66495097, 0.68259805, 0.6855392 ],\n",
      "        ...,\n",
      "        [0.6458333 , 0.6625    , 0.65563726],\n",
      "        [0.6519608 , 0.66789216, 0.6632353 ],\n",
      "        [0.67132354, 0.6870098 , 0.68308824]],\n",
      "\n",
      "       [[0.65367645, 0.68602943, 0.68308824],\n",
      "        [0.6598039 , 0.68333334, 0.68333334],\n",
      "        [0.6627451 , 0.6848039 , 0.6855392 ],\n",
      "        ...,\n",
      "        [0.66495097, 0.6845588 , 0.66887254],\n",
      "        [0.6605392 , 0.67720586, 0.67034316],\n",
      "        [0.66862744, 0.6843137 , 0.68039215]],\n",
      "\n",
      "       ...,\n",
      "\n",
      "       [[0.6311275 , 0.6389706 , 0.63504905],\n",
      "        [0.6311275 , 0.6389706 , 0.63504905],\n",
      "        [0.6237745 , 0.6360294 , 0.63210785],\n",
      "        ...,\n",
      "        [0.15      , 0.1740196 , 0.24803922],\n",
      "        [0.15980393, 0.17941177, 0.25563726],\n",
      "        [0.16568628, 0.18529412, 0.26078433]],\n",
      "\n",
      "       [[0.63039213, 0.6382353 , 0.6343137 ],\n",
      "        [0.62965685, 0.6375    , 0.6335784 ],\n",
      "        [0.63039213, 0.6382353 , 0.62990195],\n",
      "        ...,\n",
      "        [0.15294118, 0.17254902, 0.25245097],\n",
      "        [0.15      , 0.16960785, 0.25392157],\n",
      "        [0.15196079, 0.17156863, 0.25588235]],\n",
      "\n",
      "       [[0.62034315, 0.6281863 , 0.6242647 ],\n",
      "        [0.63161767, 0.6394608 , 0.6276961 ],\n",
      "        [0.64509803, 0.64705884, 0.6382353 ],\n",
      "        ...,\n",
      "        [0.14730392, 0.16691177, 0.2531863 ],\n",
      "        [0.14607844, 0.1627451 , 0.25784314],\n",
      "        [0.1509804 , 0.16666667, 0.2647059 ]]], dtype=float32)>, 1.0)\n"
     ]
    }
   ],
   "source": [
    "exampl=(process_twin(*data.as_numpy_iterator().next()))\n",
    "print((exampl))\n",
    "# plt.imshow(exampl[0])"
   ]
  },
  {
   "cell_type": "code",
   "execution_count": 29,
   "metadata": {},
   "outputs": [],
   "source": [
    "#data loader pipline\n",
    "data=data.map(process_twin)\n",
    "data=data.cache()\n",
    "data=data.shuffle(buffer_size=512) "
   ]
  },
  {
   "cell_type": "code",
   "execution_count": 37,
   "metadata": {},
   "outputs": [
    {
     "name": "stdout",
     "output_type": "stream",
     "text": [
      "0.0\n"
     ]
    },
    {
     "data": {
      "image/png": "[encoded data removed]",
      "text/plain": [
       "<Figure size 640x480 with 1 Axes>"
      ]
     },
     "metadata": {},
     "output_type": "display_data"
    }
   ],
   "source": [
    "exam=data.as_numpy_iterator().next()\n",
    "plt.imshow(exam[0])\n",
    "print(exam[2])"
   ]
  },
  {
   "cell_type": "code",
   "execution_count": 38,
   "metadata": {},
   "outputs": [
    {
     "data": {
      "text/plain": [
       "<matplotlib.image.AxesImage at 0x22823346bf0>"
      ]
     },
     "execution_count": 38,
     "metadata": {},
     "output_type": "execute_result"
    },
    {
     "data": {
      "image/png": "[encoded data removed]",
      "text/plain": [
       "<Figure size 640x480 with 1 Axes>"
      ]
     },
     "metadata": {},
     "output_type": "display_data"
    }
   ],
   "source": [
    "plt.imshow(exam[1])"
   ]
  },
  {
   "cell_type": "markdown",
   "metadata": {},
   "source": [
    "# Splitting the data"
   ]
  },
  {
   "cell_type": "code",
   "execution_count": 39,
   "metadata": {},
   "outputs": [],
   "source": [
    "\n",
    "#traing partition\n",
    "train_data=data.take(int(len(data)*0.8))\n",
    "train_data=train_data.batch(16)\n",
    "train_data=train_data.prefetch(8)\n",
    "# test validation\n",
    "test_data=data.skip(int(len(data)*0.8))\n",
    "test_data=test_data.take(int(len(data)*0.20))# it doesnot matter\n",
    "test_data=test_data.batch(16)\n",
    "test_data=test_data.prefetch(8)"
   ]
  },
  {
   "cell_type": "code",
   "execution_count": null,
   "metadata": {},
   "outputs": [],
   "source": []
  },
  {
   "cell_type": "markdown",
   "metadata": {},
   "source": [
    "# The Model Buliding ARchitcture "
   ]
  },
  {
   "cell_type": "code",
   "execution_count": 9,
   "metadata": {},
   "outputs": [],
   "source": [
    "\n",
    "# Building the embedding layer\n",
    "def make_embedding():\n",
    "    #our input block\n",
    "    inp = Input(shape=(100, 100, 3), name=\"input_image\")\n",
    "    \n",
    "    #first block\n",
    "    c1 = Conv2D(64, (10, 10), activation=\"relu\")(inp)\n",
    "    m1 = MaxPooling2D(64, (2, 2), padding=\"same\")(c1)\n",
    "    \n",
    "    #second block\n",
    "    c2 = Conv2D(128, (7, 7), activation=\"relu\")(m1)\n",
    "    m2 = MaxPooling2D(64, (2, 2), padding=\"same\")(c2)\n",
    "    \n",
    "    #third block\n",
    "    c3 = Conv2D(128, (4, 4), activation=\"relu\")(m2)\n",
    "    m3 = MaxPooling2D(64, (2, 2), padding=\"same\")(c3)\n",
    "    \n",
    "    #final block\n",
    "    c4 = Conv2D(256, (4, 4), activation=\"relu\")(m3)\n",
    "    f1 = Flatten()(c4)\n",
    "    d1 = Dense(4096, activation=\"sigmoid\")(f1)\n",
    "\n",
    "    return Model(inputs=[inp], outputs=[d1], name=\"embedding\")\n",
    "\n"
   ]
  },
  {
   "cell_type": "code",
   "execution_count": 10,
   "metadata": {},
   "outputs": [],
   "source": [
    "class L1Dist(Layer):\n",
    "    def __init__(self, **kwargs):\n",
    "        super().__init__()\n",
    "    \n",
    "    def call(self, input_embedding, validation_embedding):\n",
    "        return tf.math.abs(input_embedding - validation_embedding)\n",
    "\n"
   ]
  },
  {
   "cell_type": "markdown",
   "metadata": {},
   "source": [
    "## SIAMES NETWORK"
   ]
  },
  {
   "cell_type": "code",
   "execution_count": 11,
   "metadata": {},
   "outputs": [],
   "source": [
    "def make_siames():\n",
    "    input_img=Input(shape=(100,100,3),name=\"input_image\")\n",
    "    valid_img=Input(shape=(100,100,3),name=\"validatin_image\")\n",
    "    dist_layer=L1Dist()\n",
    "    embeding=make_embedding()\n",
    "    dist=dist_layer(embeding(input_img),embeding(valid_img))\n",
    "    classifier=Dense(1,activation=\"sigmoid\")(dist)\n",
    "    return Model(inputs=[input_img,valid_img],outputs=[classifier],name=\"siames\")"
   ]
  },
  {
   "cell_type": "code",
   "execution_count": 12,
   "metadata": {},
   "outputs": [
    {
     "name": "stdout",
     "output_type": "stream",
     "text": [
      "Model: \"siames\"\n",
      "__________________________________________________________________________________________________\n",
      " Layer (type)                   Output Shape         Param #     Connected to                     \n",
      "==================================================================================================\n",
      " input_image (InputLayer)       [(None, 100, 100, 3  0           []                               \n",
      "                                )]                                                                \n",
      "                                                                                                  \n",
      " validatin_image (InputLayer)   [(None, 100, 100, 3  0           []                               \n",
      "                                )]                                                                \n",
      "                                                                                                  \n",
      " embedding (Functional)         (None, 4096)         38960448    ['input_image[0][0]',            \n",
      "                                                                  'validatin_image[0][0]']        \n",
      "                                                                                                  \n",
      " l1_dist_2 (L1Dist)             (None, 4096)         0           ['embedding[0][0]',              \n",
      "                                                                  'embedding[1][0]']              \n",
      "                                                                                                  \n",
      " dense_1 (Dense)                (None, 1)            4097        ['l1_dist_2[0][0]']              \n",
      "                                                                                                  \n",
      "==================================================================================================\n",
      "Total params: 38,964,545\n",
      "Trainable params: 38,964,545\n",
      "Non-trainable params: 0\n",
      "__________________________________________________________________________________________________\n"
     ]
    }
   ],
   "source": [
    "make_siames().summary()"
   ]
  },
  {
   "cell_type": "code",
   "execution_count": 13,
   "metadata": {},
   "outputs": [],
   "source": [
    "binary_cross_loss=tf.losses.BinaryCrossentropy()"
   ]
  },
  {
   "cell_type": "code",
   "execution_count": 14,
   "metadata": {},
   "outputs": [],
   "source": [
    "opt=tf.keras.optimizers.Adam(1e-4)\n",
    "  "
   ]
  },
  {
   "cell_type": "code",
   "execution_count": 15,
   "metadata": {},
   "outputs": [],
   "source": [
    "siames_model=make_siames()"
   ]
  },
  {
   "cell_type": "markdown",
   "metadata": {},
   "source": [
    "### CHECK POINT OF THE MODEL TRAINNING  "
   ]
  },
  {
   "cell_type": "code",
   "execution_count": 27,
   "metadata": {},
   "outputs": [],
   "source": [
    "#check points\n",
    "checkpoint_dir='./training_check_points/'\n",
    "prefix_checkpoints=os.path.join(checkpoint_dir,'ckpt')\n",
    "checkpoint=tf.train.Checkpoint(opt=opt,siames_model=siames_model)"
   ]
  },
  {
   "cell_type": "markdown",
   "metadata": {},
   "source": [
    "## Training"
   ]
  },
  {
   "cell_type": "code",
   "execution_count": 28,
   "metadata": {},
   "outputs": [],
   "source": [
    "#build traing step\n",
    "@tf.function\n",
    "def train_step(batch):\n",
    "    #record \n",
    "    with tf.GradientTape() as tape:\n",
    "\n",
    "        #get anchor positive image\n",
    "        x=batch[:2]\n",
    "        #get lable\n",
    "        y=batch[2]\n",
    "        #foward pass\n",
    "        y_hat=siames_model(x,training=True)\n",
    "        #calculate loss\n",
    "        loss= binary_cross_loss(y,y_hat)\n",
    "    print(loss)     \n",
    "    #calculate Gradient \n",
    "    grad=tape.gradient(loss,siames_model.trainable_variables)\n",
    "    \n",
    "    # calculate updated weights and apply to siames model\n",
    "       \n",
    "    opt.apply_gradients(zip(grad,siames_model.trainable_variables))\n",
    "         \n",
    "    return loss \n"
   ]
  },
  {
   "cell_type": "code",
   "execution_count": 14,
   "metadata": {},
   "outputs": [],
   "source": [
    "#build traing loop\n",
    "def train(data,EPOCHS=10):\n",
    "    #LOOP throw each epoch\n",
    "    for epoch in range(EPOCHS):\n",
    "        print(f'/n EPOCH {epoch} {EPOCHS}')\n",
    "        progbar= tf.keras.utils.Progbar(len(data))\n",
    "        #loop throw each batch\n",
    "        for idx,batch in enumerate(data) :\n",
    "            #run train step   \n",
    "            train_step(batch)\n",
    "            progbar.update(idx+1)\n",
    "        \n",
    "        if epoch %10 ==0:\n",
    "            checkpoint.save(file_prefix=prefix_checkpoints)    \n",
    "                  "
   ]
  },
  {
   "cell_type": "code",
   "execution_count": 31,
   "metadata": {},
   "outputs": [
    {
     "name": "stdout",
     "output_type": "stream",
     "text": [
      "/n EPOCH 0 10\n",
      "Tensor(\"binary_crossentropy/weighted_loss/value:0\", shape=(), dtype=float32)\n",
      "Tensor(\"binary_crossentropy/weighted_loss/value:0\", shape=(), dtype=float32)\n",
      "30/30 [==============================] - 815s 26s/step\n",
      "/n EPOCH 1 10\n",
      "30/30 [==============================] - 699s 23s/step\n",
      "/n EPOCH 2 10\n",
      "30/30 [==============================] - 4204s 144s/step\n",
      "/n EPOCH 3 10\n",
      "30/30 [==============================] - 686s 23s/step\n",
      "/n EPOCH 4 10\n",
      "30/30 [==============================] - 647s 22s/step\n",
      "/n EPOCH 5 10\n",
      "30/30 [==============================] - 25894s 892s/step\n",
      "/n EPOCH 6 10\n",
      "30/30 [==============================] - 694s 23s/step\n",
      "/n EPOCH 7 10\n",
      "30/30 [==============================] - 715s 24s/step\n",
      "/n EPOCH 8 10\n",
      "30/30 [==============================] - 844s 28s/step\n",
      "/n EPOCH 9 10\n",
      "30/30 [==============================] - 2735s 93s/step\n"
     ]
    }
   ],
   "source": [
    "train(train_data)"
   ]
  },
  {
   "cell_type": "markdown",
   "metadata": {},
   "source": [
    "## EVAluating the model"
   ]
  },
  {
   "cell_type": "code",
   "execution_count": 40,
   "metadata": {},
   "outputs": [],
   "source": [
    "#Evaluating the class \n",
    "#METrics\n",
    "from tensorflow.keras.metrics import Precision,Recall"
   ]
  },
  {
   "cell_type": "markdown",
   "metadata": {},
   "source": [
    "# Load the Model"
   ]
  },
  {
   "cell_type": "code",
   "execution_count": 19,
   "metadata": {},
   "outputs": [
    {
     "name": "stdout",
     "output_type": "stream",
     "text": [
      "WARNING:tensorflow:No training configuration found in the save file, so the model was *not* compiled. Compile it manually.\n"
     ]
    }
   ],
   "source": [
    "model=tf.keras.models.load_model('siames_model.h5',\n",
    "                                 custom_objects={'L1Dist':L1Dist,\n",
    "                                                 'binary_cross_loss':tf.losses.BinaryCrossentropy()})"
   ]
  },
  {
   "cell_type": "code",
   "execution_count": 18,
   "metadata": {},
   "outputs": [
    {
     "data": {
      "text/plain": [
       "'2.12.0'"
      ]
     },
     "execution_count": 18,
     "metadata": {},
     "output_type": "execute_result"
    }
   ],
   "source": [
    "keras.__version__"
   ]
  },
  {
   "cell_type": "code",
   "execution_count": 41,
   "metadata": {},
   "outputs": [
    {
     "name": "stdout",
     "output_type": "stream",
     "text": [
      "1/1 [==============================] - 5s 5s/step\n"
     ]
    }
   ],
   "source": [
    "#get a batch the test data\n",
    "test_input,test_val,y_true=test_data.as_numpy_iterator().next()\n",
    "\n",
    "#Make perdiction\n",
    "y_hat=model.predict([test_input,test_val])\n",
    "# one dim\n",
    "y_hat=[1 if pred>0.7 else 0 for pred in y_hat]"
   ]
  },
  {
   "cell_type": "code",
   "execution_count": 155,
   "metadata": {},
   "outputs": [
    {
     "data": {
      "text/plain": [
       "(16, 16)"
      ]
     },
     "execution_count": 155,
     "metadata": {},
     "output_type": "execute_result"
    }
   ],
   "source": [
    "len(test_input) ,len(test_val)"
   ]
  },
  {
   "cell_type": "code",
   "execution_count": 42,
   "metadata": {},
   "outputs": [
    {
     "data": {
      "text/plain": [
       "[0, 1, 1, 1, 0, 1, 1, 0, 1, 0, 0, 0, 0, 1, 0, 0]"
      ]
     },
     "execution_count": 42,
     "metadata": {},
     "output_type": "execute_result"
    }
   ],
   "source": [
    "y_hat"
   ]
  },
  {
   "cell_type": "code",
   "execution_count": 43,
   "metadata": {},
   "outputs": [
    {
     "data": {
      "text/plain": [
       "array([0., 1., 1., 1., 0., 1., 1., 1., 1., 0., 0., 0., 0., 1., 0., 0.],\n",
       "      dtype=float32)"
      ]
     },
     "execution_count": 43,
     "metadata": {},
     "output_type": "execute_result"
    }
   ],
   "source": [
    "y_true"
   ]
  },
  {
   "cell_type": "code",
   "execution_count": 44,
   "metadata": {},
   "outputs": [
    {
     "data": {
      "text/plain": [
       "0.875"
      ]
     },
     "execution_count": 44,
     "metadata": {},
     "output_type": "execute_result"
    }
   ],
   "source": [
    "m=Recall()\n",
    "m.update_state(y_true,y_hat) #need to check the documentation\n",
    "m.result().numpy()"
   ]
  },
  {
   "cell_type": "code",
   "execution_count": 45,
   "metadata": {},
   "outputs": [
    {
     "data": {
      "text/plain": [
       "1.0"
      ]
     },
     "execution_count": 45,
     "metadata": {},
     "output_type": "execute_result"
    }
   ],
   "source": [
    "m=Precision()\n",
    "m.update_state(y_true,y_hat) #need to check the documentation\n",
    "m.result().numpy()"
   ]
  },
  {
   "cell_type": "markdown",
   "metadata": {},
   "source": [
    "### Over all metric in the data set \n"
   ]
  },
  {
   "cell_type": "code",
   "execution_count": 104,
   "metadata": {},
   "outputs": [
    {
     "name": "stdout",
     "output_type": "stream",
     "text": [
      "1/1 [==============================] - 2s 2s/step\n",
      "1/1 [==============================] - 2s 2s/step\n",
      "1/1 [==============================] - 2s 2s/step\n",
      "1/1 [==============================] - 2s 2s/step\n",
      "1/1 [==============================] - 2s 2s/step\n",
      "1/1 [==============================] - 2s 2s/step\n",
      "1/1 [==============================] - 2s 2s/step\n",
      "1/1 [==============================] - 1s 1s/step\n",
      "Overall Precision: 1.0\n",
      "Overall Recall: 0.9861111\n"
     ]
    }
   ],
   "source": [
    "# Over all metric in the data set \n",
    "\n",
    "# Initialize variables to keep track of true positives, false positives, and false negatives\n",
    "tp = tf.Variable(0, dtype=tf.float32)\n",
    "fp = tf.Variable(0, dtype=tf.float32)\n",
    "fn = tf.Variable(0, dtype=tf.float32)\n",
    "# Iterate through all batches in the test dataset\n",
    "for test_input, test_val, y_true in test_data:\n",
    "    # Make predictions for the batch\n",
    "    y_hat = model.predict([test_input, test_val])\n",
    "\n",
    "    # Convert predictions to binary values based on a threshold (e.g., 0.5)\n",
    "    y_hat = [1 if pred > 0.45 else 0 for pred in y_hat]\n",
    "\n",
    "    # Update variables for true positives, false positives, and false negatives\n",
    "    tp.assign_add(tf.reduce_sum(tf.cast(tf.logical_and(tf.equal(y_true, 1), tf.equal(y_hat, 1)), dtype=tf.float32)))\n",
    "    fp.assign_add(tf.reduce_sum(tf.cast(tf.logical_and(tf.equal(y_true, 0), tf.equal(y_hat, 1)), dtype=tf.float32)))\n",
    "    fn.assign_add(tf.reduce_sum(tf.cast(tf.logical_and(tf.equal(y_true, 1), tf.equal(y_hat, 0)), dtype=tf.float32)))\n",
    "\n",
    "\n",
    "# Calculate precision and recall for the entire dataset\n",
    "precision = tf.divide(tp, tf.add(tp, fp))\n",
    "recall = tf.divide(tp, tf.add(tp, fn))\n",
    "\n",
    "# Print the overall precision and recall\n",
    "print(\"Overall Precision:\", precision.numpy())\n",
    "print(\"Overall Recall:\", recall.numpy())"
   ]
  },
  {
   "cell_type": "code",
   "execution_count": 89,
   "metadata": {},
   "outputs": [
    {
     "name": "stdout",
     "output_type": "stream",
     "text": [
      "1/1 [==============================] - 2s 2s/step\n",
      "1/1 [==============================] - 2s 2s/step\n",
      "1/1 [==============================] - 2s 2s/step\n",
      "1/1 [==============================] - 2s 2s/step\n",
      "1/1 [==============================] - 2s 2s/step\n",
      "1/1 [==============================] - 3s 3s/step\n",
      "1/1 [==============================] - 3s 3s/step\n",
      "1/1 [==============================] - 2s 2s/step\n",
      "Overall Precision: 1.0\n",
      "Overall Recall: 1.0\n"
     ]
    }
   ],
   "source": [
    "import tensorflow as tf\n",
    "from tensorflow.keras.metrics import Precision, Recall\n",
    "\n",
    "# Initialize precision and recall metrics\n",
    "precision = Precision()\n",
    "recall = Recall()\n",
    "\n",
    "# Iterate through all batches in the test dataset\n",
    "for test_input, test_val, y_true in test_data:\n",
    "    # Make predictions for the batch\n",
    "    y_hat = model.predict([test_input, test_val])\n",
    "    \n",
    "    # Convert predictions to binary values based on a threshold (e.g., 0.5)\n",
    "    y_hat = [1 if pred > 0.45 else 0 for pred in y_hat]\n",
    "\n",
    "    # Update precision and recall metrics for the batch\n",
    "    precision.update_state(y_true, y_hat)\n",
    "    recall.update_state(y_true, y_hat)\n",
    "\n",
    "# Get the overall precision and recall\n",
    "overall_precision = precision.result().numpy()\n",
    "overall_recall = recall.result().numpy()\n",
    "\n",
    "# Print the overall precision and recall\n",
    "print(\"Overall Precision:\", overall_precision)\n",
    "print(\"Overall Recall:\", overall_recall)\n"
   ]
  },
  {
   "cell_type": "markdown",
   "metadata": {},
   "source": [
    "### Visualize the prediction and  ground true"
   ]
  },
  {
   "cell_type": "code",
   "execution_count": 179,
   "metadata": {},
   "outputs": [
    {
     "name": "stdout",
     "output_type": "stream",
     "text": [
      "y prediction value is  0\n"
     ]
    },
    {
     "data": {
      "text/plain": [
       "<matplotlib.image.AxesImage at 0x1b70d6f74f0>"
      ]
     },
     "execution_count": 179,
     "metadata": {},
     "output_type": "execute_result"
    },
    {
     "data": {
      "image/png": "[encoded data removed]",
      "text/plain": [
       "<Figure size 1600x1600 with 2 Axes>"
      ]
     },
     "metadata": {},
     "output_type": "display_data"
    }
   ],
   "source": [
    "#last step #\n",
    "random_number = random.randint(0, 15)\n",
    "plt.figure(figsize=(16,16))\n",
    "plt.subplot(2,1,1)\n",
    "plt.imshow(test_val[random_number])\n",
    "print(f'y prediction value is  {y_hat[random_number]}')\n",
    "plt.subplot(2,1,2)\n",
    "plt.imshow(test_input[random_number])\n",
    "\n"
   ]
  },
  {
   "cell_type": "code",
   "execution_count": 23,
   "metadata": {},
   "outputs": [
    {
     "name": "stdout",
     "output_type": "stream",
     "text": [
      "Model: \"siames\"\n",
      "__________________________________________________________________________________________________\n",
      " Layer (type)                Output Shape                 Param #   Connected to                  \n",
      "==================================================================================================\n",
      " input_image (InputLayer)    [(None, 100, 100, 3)]        0         []                            \n",
      "                                                                                                  \n",
      " validatin_image (InputLaye  [(None, 100, 100, 3)]        0         []                            \n",
      " r)                                                                                               \n",
      "                                                                                                  \n",
      " embedding (Functional)      (None, 4096)                 3896044   ['input_image[0][0]',         \n",
      "                                                          8          'validatin_image[0][0]']     \n",
      "                                                                                                  \n",
      " l1_dist (L1Dist)            (None, 4096)                 0         ['embedding[0][0]',           \n",
      "                                                                     'embedding[1][0]']           \n",
      "                                                                                                  \n",
      " dense_3 (Dense)             (None, 1)                    4097      ['l1_dist[0][0]']             \n",
      "                                                                                                  \n",
      "==================================================================================================\n",
      "Total params: 38964545 (148.64 MB)\n",
      "Trainable params: 38964545 (148.64 MB)\n",
      "Non-trainable params: 0 (0.00 Byte)\n",
      "__________________________________________________________________________________________________\n"
     ]
    }
   ],
   "source": [
    "model.summary()"
   ]
  },
  {
   "cell_type": "code",
   "execution_count": 39,
   "metadata": {},
   "outputs": [
    {
     "name": "stdout",
     "output_type": "stream",
     "text": [
      "WARNING:tensorflow:No training configuration found in the save file, so the model was *not* compiled. Compile it manually.\n"
     ]
    }
   ],
   "source": [
    "#save the model\n",
    "\n",
    "#siames_model.save(\"siames_model.h5\")\n",
    "\n",
    "#reload the model\n",
    "\n"
   ]
  },
  {
   "cell_type": "code",
   "execution_count": 77,
   "metadata": {},
   "outputs": [
    {
     "name": "stdout",
     "output_type": "stream",
     "text": [
      "1/1 [==============================] - 4s 4s/step\n"
     ]
    }
   ],
   "source": [
    "prediction=model.predict([test_input,test_val])"
   ]
  },
  {
   "cell_type": "markdown",
   "metadata": {},
   "source": [
    "# SAVE THE MODEL"
   ]
  },
  {
   "cell_type": "code",
   "execution_count": 34,
   "metadata": {},
   "outputs": [],
   "source": [
    "siames_model.save('siames_model.keras')"
   ]
  },
  {
   "cell_type": "code",
   "execution_count": 68,
   "metadata": {},
   "outputs": [
    {
     "name": "stdout",
     "output_type": "stream",
     "text": [
      "(100, 100, 3)\n",
      "(100, 100, 3)\n",
      "2\n",
      "1/1 [==============================] - 0s 384ms/step\n"
     ]
    }
   ],
   "source": [
    "input_img=preprocess(os.path.join('application','input_img','input_img.jpg') )\n",
    "print(input_img.shape)\n",
    "for verf in os.listdir(os.path.join('application','verifcation_img'))[:1]:\n",
    "    #path => img=> model.predict => output over 50 over \n",
    "    \n",
    "    verifacation_img=preprocess(os.path.join('application','verifcation_img',verf))\n",
    "    print(verifacation_img.shape)\n",
    "    print(len(list(np.expand_dims([verifacation_img,input_img],axis=1))))\n",
    "    result=model.predict(list(np.expand_dims([verifacation_img,input_img],axis=1)))\n",
    "\n",
    "    "
   ]
  },
  {
   "cell_type": "markdown",
   "metadata": {},
   "source": [
    "### Deploy Function "
   ]
  },
  {
   "cell_type": "code",
   "execution_count": 15,
   "metadata": {},
   "outputs": [],
   "source": [
    "def verifay(model,detect_thre,verif_thre):\n",
    "    results=[] # to make threeshold over 50 verfication input \n",
    "    input_img=preprocess(os.path.join('application','input_img','input_img.jpg') )\n",
    "    for verf in os.listdir(os.path.join('application','verifcation_img')):\n",
    "        #path => img=> model.predict => output over 50 over \n",
    "        \n",
    "        verifacation_img=preprocess(os.path.join('application','verifcation_img',verf))\n",
    "        \n",
    "        result=model.predict(list(np.expand_dims([verifacation_img,input_img],axis=1)))\n",
    "        #np.expand_dims([verifacation_img,input_img], axis=1)\n",
    "\n",
    "        results.append(result)\n",
    "    \n",
    "    #detection Threeshold\n",
    "    detection=np.sum(np.array(results) >detect_thre)\n",
    "    #verification Threeshold\n",
    "    verifcation = detection / len(os.listdir(os.path.join('application','verifcation_img'))) \n",
    "    verify= verifcation > verif_thre\n",
    "    \n",
    "    return results,verify  \n",
    "        \n",
    "        \n",
    "#verifay(model,0.5,0.5)        \n",
    "        \n",
    "        \n",
    "        \n",
    "        \n",
    "        "
   ]
  },
  {
   "cell_type": "code",
   "execution_count": 24,
   "metadata": {},
   "outputs": [
    {
     "name": "stdout",
     "output_type": "stream",
     "text": [
      "1/1 [==============================] - 1s 594ms/step\n",
      "1/1 [==============================] - 1s 511ms/step\n",
      "1/1 [==============================] - 1s 523ms/step\n",
      "1/1 [==============================] - 1s 557ms/step\n",
      "1/1 [==============================] - 1s 1s/step\n",
      "1/1 [==============================] - 1s 907ms/step\n",
      "1/1 [==============================] - 1s 984ms/step\n",
      "1/1 [==============================] - 1s 1s/step\n",
      "1/1 [==============================] - 1s 1s/step\n",
      "1/1 [==============================] - 1s 931ms/step\n",
      "1/1 [==============================] - 1s 1s/step\n",
      "1/1 [==============================] - 1s 1s/step\n",
      "1/1 [==============================] - 1s 1s/step\n",
      "1/1 [==============================] - 1s 1s/step\n",
      "1/1 [==============================] - 1s 1s/step\n",
      "1/1 [==============================] - 1s 1s/step\n",
      "1/1 [==============================] - 1s 878ms/step\n",
      "1/1 [==============================] - 1s 839ms/step\n",
      "1/1 [==============================] - 1s 819ms/step\n",
      "1/1 [==============================] - 1s 868ms/step\n",
      "1/1 [==============================] - 1s 818ms/step\n",
      "1/1 [==============================] - 1s 1s/step\n",
      "1/1 [==============================] - 1s 1s/step\n",
      "1/1 [==============================] - 1s 1s/step\n",
      "1/1 [==============================] - 1s 889ms/step\n",
      "1/1 [==============================] - 1s 921ms/step\n",
      "1/1 [==============================] - 1s 808ms/step\n",
      "1/1 [==============================] - 1s 1s/step\n",
      "1/1 [==============================] - 1s 1s/step\n",
      "1/1 [==============================] - 1s 1s/step\n",
      "1/1 [==============================] - 1s 1s/step\n",
      "1/1 [==============================] - 1s 1s/step\n",
      "1/1 [==============================] - 1s 877ms/step\n",
      "1/1 [==============================] - 1s 884ms/step\n",
      "1/1 [==============================] - 1s 823ms/step\n",
      "1/1 [==============================] - 1s 691ms/step\n",
      "1/1 [==============================] - 1s 648ms/step\n",
      "1/1 [==============================] - 1s 642ms/step\n",
      "1/1 [==============================] - 1s 695ms/step\n",
      "1/1 [==============================] - 1s 1s/step\n",
      "1/1 [==============================] - 1s 948ms/step\n",
      "1/1 [==============================] - 1s 1s/step\n",
      "1/1 [==============================] - 1s 1s/step\n",
      "1/1 [==============================] - 1s 1s/step\n",
      "1/1 [==============================] - 1s 1s/step\n",
      "1/1 [==============================] - 1s 1s/step\n",
      "1/1 [==============================] - 1s 1s/step\n",
      "1/1 [==============================] - 1s 743ms/step\n",
      "1/1 [==============================] - 1s 765ms/step\n",
      "1/1 [==============================] - 1s 668ms/step\n",
      "False\n",
      "1/1 [==============================] - 1s 973ms/step\n",
      "1/1 [==============================] - 1s 601ms/step\n",
      "1/1 [==============================] - 0s 473ms/step\n",
      "1/1 [==============================] - 1s 827ms/step\n",
      "1/1 [==============================] - 1s 619ms/step\n",
      "1/1 [==============================] - 0s 430ms/step\n",
      "1/1 [==============================] - 1s 522ms/step\n",
      "1/1 [==============================] - 1s 589ms/step\n",
      "1/1 [==============================] - 1s 548ms/step\n",
      "1/1 [==============================] - 1s 576ms/step\n",
      "1/1 [==============================] - 1s 676ms/step\n",
      "1/1 [==============================] - 1s 610ms/step\n",
      "1/1 [==============================] - 1s 835ms/step\n",
      "1/1 [==============================] - 1s 1s/step\n",
      "1/1 [==============================] - 1s 948ms/step\n",
      "1/1 [==============================] - 1s 817ms/step\n",
      "1/1 [==============================] - 1s 864ms/step\n",
      "1/1 [==============================] - 1s 840ms/step\n",
      "1/1 [==============================] - 1s 1s/step\n",
      "1/1 [==============================] - 1s 1s/step\n",
      "1/1 [==============================] - 1s 878ms/step\n",
      "1/1 [==============================] - 1s 824ms/step\n",
      "1/1 [==============================] - 1s 956ms/step\n",
      "1/1 [==============================] - 1s 1s/step\n",
      "1/1 [==============================] - 1s 792ms/step\n",
      "1/1 [==============================] - 1s 790ms/step\n",
      "1/1 [==============================] - 1s 812ms/step\n",
      "1/1 [==============================] - 1s 834ms/step\n",
      "1/1 [==============================] - 1s 842ms/step\n",
      "1/1 [==============================] - 1s 867ms/step\n",
      "1/1 [==============================] - 1s 975ms/step\n",
      "1/1 [==============================] - 1s 937ms/step\n",
      "1/1 [==============================] - 1s 1s/step\n",
      "1/1 [==============================] - 1s 1s/step\n",
      "1/1 [==============================] - 1s 1s/step\n",
      "1/1 [==============================] - 1s 1s/step\n",
      "1/1 [==============================] - 1s 772ms/step\n",
      "1/1 [==============================] - 1s 670ms/step\n",
      "1/1 [==============================] - 1s 727ms/step\n",
      "1/1 [==============================] - 1s 616ms/step\n",
      "1/1 [==============================] - 1s 611ms/step\n",
      "1/1 [==============================] - 1s 679ms/step\n",
      "1/1 [==============================] - 1s 681ms/step\n",
      "1/1 [==============================] - 1s 635ms/step\n",
      "1/1 [==============================] - 1s 632ms/step\n",
      "1/1 [==============================] - 1s 641ms/step\n",
      "1/1 [==============================] - 1s 638ms/step\n",
      "1/1 [==============================] - 1s 629ms/step\n",
      "1/1 [==============================] - 1s 610ms/step\n",
      "1/1 [==============================] - 1s 597ms/step\n",
      "True\n",
      "we are done ya man\n"
     ]
    }
   ],
   "source": [
    "cap=cv2.VideoCapture(0)\n",
    "\n",
    "while cap.isOpened():\n",
    "    ret, frame=cap.read()\n",
    "    frame=frame[100:250+100,200:250+200,:]\n",
    "    cv2.imshow('verification',frame)\n",
    "    \n",
    "    #break from the real time streaming\n",
    "    if cv2.waitKey(1)& 0xFF == ord('q'):\n",
    "        print(\"we are done ya man\")\n",
    "        break     \n",
    "    if cv2.waitKey(1)& 0xFF == ord('a'):\n",
    "        path=os.path.join('application','input_img','input_img.jpg')\n",
    "        cv2.imwrite(path,frame)\n",
    "        result,v=verifay(model,0.5,0.8)        \n",
    "        print(v)\n",
    "#Release your webcam\n",
    "cap.release()\n",
    "cv2.destroyAllWindows()"
   ]
  },
  {
   "cell_type": "code",
   "execution_count": 26,
   "metadata": {},
   "outputs": [
    {
     "data": {
      "text/plain": [
       "0.58"
      ]
     },
     "execution_count": 26,
     "metadata": {},
     "output_type": "execute_result"
    }
   ],
   "source": [
    "np.sum(np.array(result)>0.8 ) /50"
   ]
  }
 ],
 "metadata": {
  "kernelspec": {
   "display_name": "minimal_ds",
   "language": "python",
   "name": "python3"
  },
  "language_info": {
   "codemirror_mode": {
    "name": "ipython",
    "version": 3
   },
   "file_extension": ".py",
   "mimetype": "text/x-python",
   "name": "python",
   "nbconvert_exporter": "python",
   "pygments_lexer": "ipython3",
   "version": "3.10.12"
  },
  "orig_nbformat": 4
 },
 "nbformat": 4,
 "nbformat_minor": 2
}
